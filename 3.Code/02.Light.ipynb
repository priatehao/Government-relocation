{
 "cells": [
  {
   "cell_type": "markdown",
   "id": "bd4866d3",
   "metadata": {
    "pycharm": {
     "name": "#%% md\n"
    }
   },
   "source": [
    "# Nighttime Light"
   ]
  },
  {
   "cell_type": "code",
   "execution_count": 1,
   "id": "9d97cd48",
   "metadata": {
    "pycharm": {
     "name": "#%%\n"
    }
   },
   "outputs": [],
   "source": [
    "import geopandas as gpd\n",
    "import pandas as pd\n",
    "import numpy as np\n",
    "import rioxarray\n",
    "import xarray\n",
    "from pathlib import Path\n",
    "import os\n",
    "from tqdm import tqdm\n",
    "from multiprocessing import Pool\n",
    "from geocube.api.core import make_geocube\n",
    "%matplotlib inline\n",
    "import time\n",
    "import workers"
   ]
  },
  {
   "cell_type": "code",
   "execution_count": 2,
   "metadata": {
    "collapsed": false,
    "pycharm": {
     "name": "#%%\n"
    }
   },
   "outputs": [],
   "source": [
    "def lightter(out_grid):\n",
    "    grouped_elevation = out_grid.drop(\"spatial_ref\").groupby(out_grid.group)\n",
    "    grid_mean = grouped_elevation.mean().rename({\"light\": \"light_mean\"})\n",
    "    grid_min = grouped_elevation.min().rename({\"light\": \"light_min\"})\n",
    "    grid_max = grouped_elevation.max().rename({\"light\": \"light_max\"})\n",
    "    grid_std = grouped_elevation.std().rename({\"light\": \"light_std\"})\n",
    "    # print(grid_mean, grid_min, grid_max, grid_std)\n",
    "    zonal_stats = xarray.merge([grid_mean, grid_min, grid_max, grid_std]).to_dataframe()\n",
    "    # zonal_stats['base']=b\n",
    "    # zonal_stats['ctrl_dis']=d\n",
    "    # print(zonal_stats)\n",
    "    return zonal_stats"
   ]
  },
  {
   "cell_type": "code",
   "execution_count": 33,
   "id": "e3bdd87b",
   "metadata": {
    "pycharm": {
     "name": "#%%\n"
    }
   },
   "outputs": [],
   "source": [
    "def get_light(fpath):\n",
    "    # fpath = \"D:\\Projects\\CityGovRelocation\\0.DataCleaning\\1.Input\\Light\\PANDA_China_2000.tif\"\n",
    "    lightr = rioxarray.open_rasterio(fpath, masked=True)\n",
    "    light = lightr.rio.clip(comms.geometry.values, comms.crs, from_disk=True).sel(band=1).drop(\"band\")\n",
    "    light.name = \"light\"\n",
    "    \n",
    "    zonal_stats_l = []\n",
    "    vector_data_l = []\n",
    "    for d in [1000,1250, 1500, 1750,2000,2250, 2500,2750,3000]:\n",
    "        for b in range(1, 13):\n",
    "            vector_data=comms.loc[ (comms['base']==b) & (comms['ctrl_dis'] ==d) ,:]\n",
    "            # print(d, b, )\n",
    "            out_grid = make_geocube(vector_data=vector_data, measurements=[\"group\"], like=light,)\n",
    "            out_grid[\"light\"] = (light.dims, light.values, light.attrs, light.encoding)\n",
    "            out_grid['base'] = b\n",
    "            out_grid['ctrl_dis'] = d\n",
    "            # print(out_grid['base'].values)\n",
    "            vector_data_l.append(out_grid)\n",
    "\n",
    "    if __name__ == '__main__':\n",
    "        with Pool(os.cpu_count()) as pool:\n",
    "            for op in pool.map(workers.lightter, vector_data_l):\n",
    "                zonal_stats_l.append(op)\n",
    "    #\n",
    "    df_light = pd.concat(zonal_stats_l)\n",
    "    df_light[\"file\"] = fpath.stem\n",
    "    \n",
    "    # df_light = df_light.merge(comms, on=\"group\")\n",
    "    print(len(df_light), len(comms))\n",
    "    return df_light"
   ]
  },
  {
   "cell_type": "code",
   "execution_count": 34,
   "id": "35302170",
   "metadata": {
    "pycharm": {
     "is_executing": true,
     "name": "#%%\n"
    }
   },
   "outputs": [
    {
     "name": "stdout",
     "output_type": "stream",
     "text": [
      "PANDA_China_1984.tif\n",
      "3456 3456\n",
      "212.40863132476807\n",
      "PANDA_China_1985.tif\n",
      "PANDA_China_1986.tif\n",
      "PANDA_China_1987.tif\n",
      "PANDA_China_1988.tif\n",
      "PANDA_China_1989.tif\n",
      "PANDA_China_1990.tif\n",
      "PANDA_China_1991.tif\n",
      "PANDA_China_1992.tif\n",
      "PANDA_China_1993.tif\n",
      "PANDA_China_1994.tif\n",
      "PANDA_China_1995.tif\n",
      "PANDA_China_1996.tif\n",
      "PANDA_China_1997.tif\n",
      "PANDA_China_1998.tif\n",
      "PANDA_China_1999.tif\n",
      "PANDA_China_2000.tif\n",
      "PANDA_China_2001.tif\n",
      "PANDA_China_2002.tif\n",
      "PANDA_China_2003.tif\n",
      "PANDA_China_2004.tif\n",
      "PANDA_China_2005.tif\n",
      "PANDA_China_2006.tif\n",
      "PANDA_China_2007.tif\n",
      "PANDA_China_2008.tif\n",
      "PANDA_China_2009.tif\n",
      "PANDA_China_2010.tif\n",
      "PANDA_China_2011.tif\n",
      "PANDA_China_2012.tif\n",
      "PANDA_China_2013.tif\n",
      "PANDA_China_2014.tif\n",
      "PANDA_China_2015.tif\n",
      "PANDA_China_2016.tif\n",
      "PANDA_China_2017.tif\n",
      "PANDA_China_2018.tif\n",
      "PANDA_China_2019.tif\n",
      "PANDA_China_2020.tif\n"
     ]
    }
   ],
   "source": [
    "comms = gpd.read_file(\"../1.Input/comms1.geojson\")\n",
    "comms['group'] = comms.index.astype('int')\n",
    "comms['group'] = comms['group'] +1\n",
    "comms['base'] = np.tile(np.arange(1, 13), len(comms))[:len(comms)]\n",
    "\n",
    "dpath = \"../1.Input/Light\"\n",
    "\n",
    "for (root, dirs, filenames) in os.walk(dpath, topdown=False):\n",
    "    for _file in filenames:\n",
    "        print(_file)\n",
    "        fpath = Path(root).joinpath(_file)\n",
    "        if fpath.suffix in ['.tif', 'tiff'] and not Path(f\"../2.Output/{fpath.stem}_light_1.csv\").is_file():\n",
    "            start = time.time()\n",
    "            df = get_light(fpath)\n",
    "            df.to_csv(f\"../2.Output/{fpath.stem}_light_1.csv\")\n",
    "            end = time.time()\n",
    "            print(end - start)"
   ]
  },
  {
   "cell_type": "code",
   "execution_count": null,
   "id": "aefb929c",
   "metadata": {},
   "outputs": [],
   "source": [
    "comms = gpd.read_file(\"../1.Input/comms2.geojson\")\n",
    "comms['group'] = comms.index.astype('int')\n",
    "comms['group'] = comms['group'] +1\n",
    "comms['base'] = np.tile(np.arange(1, 13), len(comms))[:len(comms)]\n",
    "\n",
    "dpath = \"../1.Input/Light\"\n",
    "\n",
    "for (root, dirs, filenames) in os.walk(dpath, topdown=False):\n",
    "    for _file in filenames:\n",
    "        print(_file)\n",
    "        fpath = Path(root).joinpath(_file)\n",
    "        if fpath.suffix in ['.tif', 'tiff'] and not Path(f\"../2.Output/{fpath.stem}_light_2.csv\").is_file():\n",
    "            start = time.time()\n",
    "            df = get_light(fpath)\n",
    "            df.to_csv(f\"../2.Output/{fpath.stem}_light_2.csv\")\n",
    "            end = time.time()\n",
    "            print(end - start)"
   ]
  },
  {
   "cell_type": "code",
   "execution_count": null,
   "id": "afae3c77",
   "metadata": {},
   "outputs": [],
   "source": [
    "comms = gpd.read_file(\"../1.Input/comms3.geojson\")\n",
    "comms['group'] = comms.index.astype('int')\n",
    "comms['group'] = comms['group'] +1\n",
    "comms['base'] = np.tile(np.arange(1, 13), len(comms))[:len(comms)]\n",
    "\n",
    "dpath = \"../1.Input/Light\"\n",
    "\n",
    "for (root, dirs, filenames) in os.walk(dpath, topdown=False):\n",
    "    for _file in filenames:\n",
    "        print(_file)\n",
    "        fpath = Path(root).joinpath(_file)\n",
    "        if fpath.suffix in ['.tif', 'tiff'] and not Path(f\"../2.Output/{fpath.stem}_light_3.csv\").is_file():\n",
    "            start = time.time()\n",
    "            df = get_light(fpath)\n",
    "            df.to_csv(f\"../2.Output/{fpath.stem}_light_3.csv\")\n",
    "            end = time.time()\n",
    "            print(end - start)"
   ]
  }
 ],
 "metadata": {
  "kernelspec": {
   "display_name": "py39",
   "language": "python",
   "name": "python3"
  },
  "language_info": {
   "codemirror_mode": {
    "name": "ipython",
    "version": 3
   },
   "file_extension": ".py",
   "mimetype": "text/x-python",
   "name": "python",
   "nbconvert_exporter": "python",
   "pygments_lexer": "ipython3",
   "version": "3.9.12"
  },
  "vscode": {
   "interpreter": {
    "hash": "6a1c7cd2fa3d399d4a8ab23ed11198d8d5d422b4f96a1f50dfb2e1a00e47af8c"
   }
  }
 },
 "nbformat": 4,
 "nbformat_minor": 5
}
