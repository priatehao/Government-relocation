{
 "cells": [
  {
   "cell_type": "markdown",
   "id": "bd4866d3",
   "metadata": {},
   "source": [
    "# Nighttime Light"
   ]
  },
  {
   "cell_type": "code",
   "execution_count": 9,
   "id": "9d97cd48",
   "metadata": {},
   "outputs": [],
   "source": [
    "import geopandas as gpd\n",
    "import pandas as pd\n",
    "import numpy as np\n",
    "import rioxarray\n",
    "import xarray\n",
    "from pathlib import Path\n",
    "import os\n",
    "from tqdm import tqdm\n",
    "from multiprocessing import Pool\n",
    "from geocube.api.core import make_geocube\n",
    "%matplotlib inline\n",
    "import time\n",
    "import workers\n",
    "%matplotlib inline"
   ]
  },
  {
   "cell_type": "code",
   "execution_count": 10,
   "id": "428f40e9",
   "metadata": {},
   "outputs": [],
   "source": [
    "geo_city = gpd.read_file(\"../1.Input/2019行政区划/市.shp\")\n",
    "geo_city[\"市代码\"] = geo_city.市代码.astype(int)"
   ]
  },
  {
   "cell_type": "code",
   "execution_count": 11,
   "id": "7e5a06af",
   "metadata": {},
   "outputs": [],
   "source": [
    "def get_light(fpath):\n",
    "    # fpath = \"D:\\Projects\\CityGovRelocation\\0.DataCleaning\\1.Input\\Light\\PANDA_China_2000.tif\"\n",
    "    lightr = rioxarray.open_rasterio(fpath, masked=True)\n",
    "    light = lightr.rio.clip(geo_city.geometry.values, geo_city.crs, from_disk=True).sel(band=1).drop(\"band\")\n",
    "    light.name = \"light\"\n",
    "\n",
    "    out_grid = make_geocube(vector_data=geo_city, measurements=[\"市代码\"], like=light,)\n",
    "    out_grid[\"light\"] = (light.dims, light.values, light.attrs, light.encoding)\n",
    "\n",
    "    grouped_elevation = out_grid.drop(\"spatial_ref\").groupby(out_grid.市代码)\n",
    "    grid_mean = grouped_elevation.mean().rename({\"light\": \"light_mean\"})\n",
    "    grid_min = grouped_elevation.min().rename({\"light\": \"light_min\"})\n",
    "    grid_max = grouped_elevation.max().rename({\"light\": \"light_max\"})\n",
    "    grid_std = grouped_elevation.std().rename({\"light\": \"light_std\"})\n",
    "\n",
    "    df_light = xarray.merge([grid_mean, grid_min, grid_max, grid_std]).to_dataframe()\n",
    "    df_light[\"file\"] = fpath.stem\n",
    "    return df_light"
   ]
  },
  {
   "cell_type": "code",
   "execution_count": 12,
   "id": "2e73b2ae",
   "metadata": {},
   "outputs": [
    {
     "name": "stdout",
     "output_type": "stream",
     "text": [
      "PANDA_China_1984.tif\n",
      "65.67928981781006\n",
      "PANDA_China_1985.tif\n",
      "63.0443651676178\n",
      "PANDA_China_1986.tif\n",
      "60.29082655906677\n",
      "PANDA_China_1987.tif\n",
      "74.18614625930786\n",
      "PANDA_China_1988.tif\n",
      "78.25558400154114\n",
      "PANDA_China_1989.tif\n",
      "88.8729841709137\n",
      "PANDA_China_1990.tif\n",
      "68.72291421890259\n",
      "PANDA_China_1991.tif\n",
      "63.85154628753662\n",
      "PANDA_China_1992.tif\n",
      "64.10802388191223\n",
      "PANDA_China_1993.tif\n",
      "69.65729284286499\n",
      "PANDA_China_1994.tif\n",
      "63.651506423950195\n",
      "PANDA_China_1995.tif\n",
      "61.61420249938965\n",
      "PANDA_China_1996.tif\n",
      "65.29681658744812\n",
      "PANDA_China_1997.tif\n",
      "62.83100628852844\n",
      "PANDA_China_1998.tif\n",
      "59.721548557281494\n",
      "PANDA_China_1999.tif\n",
      "67.15787839889526\n",
      "PANDA_China_2000.tif\n",
      "68.40954256057739\n",
      "PANDA_China_2001.tif\n",
      "68.82632040977478\n",
      "PANDA_China_2002.tif\n",
      "60.53530836105347\n",
      "PANDA_China_2003.tif\n",
      "56.58320951461792\n",
      "PANDA_China_2004.tif\n",
      "59.137006521224976\n",
      "PANDA_China_2005.tif\n",
      "66.2095091342926\n",
      "PANDA_China_2006.tif\n",
      "58.688655376434326\n",
      "PANDA_China_2007.tif\n",
      "55.97712683677673\n",
      "PANDA_China_2008.tif\n",
      "59.14943265914917\n",
      "PANDA_China_2009.tif\n",
      "58.05397701263428\n",
      "PANDA_China_2010.tif\n",
      "59.78743076324463\n",
      "PANDA_China_2011.tif\n",
      "62.45011806488037\n",
      "PANDA_China_2012.tif\n",
      "62.26395511627197\n",
      "PANDA_China_2013.tif\n",
      "61.6466863155365\n",
      "PANDA_China_2014.tif\n",
      "65.04650163650513\n",
      "PANDA_China_2015.tif\n",
      "60.72391986846924\n",
      "PANDA_China_2016.tif\n",
      "59.53637671470642\n",
      "PANDA_China_2017.tif\n",
      "62.37274694442749\n",
      "PANDA_China_2018.tif\n",
      "61.52845215797424\n",
      "PANDA_China_2019.tif\n",
      "64.21858525276184\n",
      "PANDA_China_2020.tif\n",
      "61.08951234817505\n"
     ]
    }
   ],
   "source": [
    "dpath = \"../1.Input/Light\"\n",
    "\n",
    "for (root, dirs, filenames) in os.walk(dpath, topdown=False):\n",
    "    for _file in filenames:\n",
    "        print(_file)\n",
    "        fpath = Path(root).joinpath(_file)\n",
    "        if fpath.suffix in ['.tif', 'tiff'] and not Path(f\"../2.Output/{fpath.stem}_light_city.csv\").is_file():\n",
    "            start = time.time()\n",
    "            df = get_light(fpath)\n",
    "            df.to_csv(f\"../2.Output/{fpath.stem}_light_city.csv\")\n",
    "            end = time.time()\n",
    "            print(end - start)"
   ]
  },
  {
   "cell_type": "code",
   "execution_count": null,
   "id": "9b698086",
   "metadata": {},
   "outputs": [],
   "source": []
  }
 ],
 "metadata": {
  "kernelspec": {
   "display_name": "Python 3 (ipykernel)",
   "language": "python",
   "name": "python3"
  },
  "language_info": {
   "codemirror_mode": {
    "name": "ipython",
    "version": 3
   },
   "file_extension": ".py",
   "mimetype": "text/x-python",
   "name": "python",
   "nbconvert_exporter": "python",
   "pygments_lexer": "ipython3",
   "version": "3.9.12"
  }
 },
 "nbformat": 4,
 "nbformat_minor": 5
}
